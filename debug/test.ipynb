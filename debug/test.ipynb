{
 "cells": [
  {
   "cell_type": "code",
   "execution_count": 2,
   "metadata": {},
   "outputs": [
    {
     "name": "stdout",
     "output_type": "stream",
     "text": [
      "{0: 0, 2: 1, 3: 2, 5: 3, 6: 4, 7: 5, 8: 6, 10: 7, 11: 8, 12: 9, 13: 10, 14: 11, 15: 12, 16: 13, 17: 14, 18: 15, 19: 16}\n"
     ]
    }
   ],
   "source": [
    "novel_class = [1, 4, 9]\n",
    "base_class = [i for i in range(20) if i not in novel_class]\n",
    "label_map = {cls: i for i, cls in enumerate(base_class)}\n",
    "\n",
    "print(label_map)"
   ]
  },
  {
   "cell_type": "code",
   "execution_count": null,
   "metadata": {},
   "outputs": [],
   "source": [
    "import torch\n",
    "\n",
    "# Create a tensor with NaN values\n",
    "tensor = torch.tensor([1.0, float('nan'), 2.0])\n",
    "\n",
    "# Check if there is NaN in the tensor\n",
    "has_nan = torch.isnan(tensor).any()\n",
    "\n",
    "print(has_nan)"
   ]
  }
 ],
 "metadata": {
  "kernelspec": {
   "display_name": "symphonies",
   "language": "python",
   "name": "python3"
  },
  "language_info": {
   "codemirror_mode": {
    "name": "ipython",
    "version": 3
   },
   "file_extension": ".py",
   "mimetype": "text/x-python",
   "name": "python",
   "nbconvert_exporter": "python",
   "pygments_lexer": "ipython3",
   "version": "3.8.-1"
  }
 },
 "nbformat": 4,
 "nbformat_minor": 2
}
